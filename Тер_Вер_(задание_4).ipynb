{
  "nbformat": 4,
  "nbformat_minor": 0,
  "metadata": {
    "colab": {
      "name": "Тер.Вер (задание 4).ipynb",
      "provenance": [],
      "authorship_tag": "ABX9TyO9y9FrCmr5Zsgn/ghmlFQz",
      "include_colab_link": true
    },
    "kernelspec": {
      "name": "python3",
      "display_name": "Python 3"
    },
    "language_info": {
      "name": "python"
    }
  },
  "cells": [
    {
      "cell_type": "markdown",
      "metadata": {
        "id": "view-in-github",
        "colab_type": "text"
      },
      "source": [
        "<a href=\"https://colab.research.google.com/github/Karlitos982/GeekBrains/blob/master/%D0%A2%D0%B5%D1%80_%D0%92%D0%B5%D1%80_(%D0%B7%D0%B0%D0%B4%D0%B0%D0%BD%D0%B8%D0%B5_4).ipynb\" target=\"_parent\"><img src=\"https://colab.research.google.com/assets/colab-badge.svg\" alt=\"Open In Colab\"/></a>"
      ]
    },
    {
      "cell_type": "markdown",
      "metadata": {
        "id": "FRryq6PxuGtq"
      },
      "source": [
        "Задача №1. \n",
        "Случайная непрерывная величина A имеет равномерное распределение на промежутке (200, 800].\n",
        "Найдите ее среднее значение и дисперсию.\n"
      ]
    },
    {
      "cell_type": "code",
      "metadata": {
        "colab": {
          "base_uri": "https://localhost:8080/"
        },
        "id": "WxlbWqE6t9Wn",
        "outputId": "43c4c1b0-1971-478b-a34c-0abbca93f69a"
      },
      "source": [
        "# Считаем \n",
        "a = 201\n",
        "b = 800\n",
        "mean = (a + b) / 2\n",
        "variance = pow((b - a), 2) / 12\n",
        "print('mean is ', mean, 'variance is ', variance)"
      ],
      "execution_count": 16,
      "outputs": [
        {
          "output_type": "stream",
          "text": [
            "mean is  500.5 variance is  29900.083333333332 29900.083333333332\n"
          ],
          "name": "stdout"
        }
      ]
    },
    {
      "cell_type": "markdown",
      "metadata": {
        "id": "L_wsIBwMuEJq"
      },
      "source": [
        "\n",
        "Задача №2. О случайной непрерывной равномерно распределенной величине B известно, что ее дисперсия равна 0.2.\n",
        "Можно ли найти правую границу величины B и ее среднее значение зная, что левая граница равна 0.5?\n",
        "Если да, найдите ее.\n",
        "\n"
      ]
    },
    {
      "cell_type": "code",
      "metadata": {
        "colab": {
          "base_uri": "https://localhost:8080/"
        },
        "id": "TbQU1mm64fLY",
        "outputId": "127f29b5-ecb1-4e0a-d778-f0345d28e926"
      },
      "source": [
        "# Возьмем формулу: variance = pow((b - a), 2) / 12\n",
        "# подставим известные: (b - 0.5)^2 / 12 = 0.2\n",
        "# получилось квадратное уравнение: (pow(x, 2) / 12) - (x / 12) - (43 / 240) = 0\n",
        "# решим через дискриминант, получим положительный x1 ≈ 2.05\n",
        "# Проверим, подставив значение в формулу:\n",
        "a = 0.5\n",
        "b = 2.05\n",
        "mean = (a + b) / 2\n",
        "variance = pow((b - a), 2) / 12\n",
        "print('mean is ', mean, 'variance is ', variance)"
      ],
      "execution_count": 27,
      "outputs": [
        {
          "output_type": "stream",
          "text": [
            "mean is  1.275 variance is  0.2002083333333333\n"
          ],
          "name": "stdout"
        }
      ]
    },
    {
      "cell_type": "markdown",
      "metadata": {
        "id": "YTmSMNM6JIHB"
      },
      "source": [
        "Задача 3. Непрерывная случайная величина X распределена нормально и задана плотностью распределения:\n",
        "\n",
        "![image.png](data:image/png;base64,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)\n",
        "\n",
        "Найдите:\n",
        "\n",
        "а). M(X)\n",
        "б). D(X)\n",
        "в). std(X) (среднее квадратичное отклонение)"
      ]
    },
    {
      "cell_type": "code",
      "metadata": {
        "id": "ph7OLfrz5SuT"
      },
      "source": [
        "# std(X) = 4\n",
        "# M(X) = -2\n",
        "# D(X) = 16"
      ],
      "execution_count": 29,
      "outputs": []
    },
    {
      "cell_type": "code",
      "metadata": {
        "id": "9DJQ32jZQRih"
      },
      "source": [
        ""
      ],
      "execution_count": null,
      "outputs": []
    }
  ]
}