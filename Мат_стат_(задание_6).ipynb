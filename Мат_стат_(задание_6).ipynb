{
  "nbformat": 4,
  "nbformat_minor": 0,
  "metadata": {
    "colab": {
      "name": "Мат.стат. (задание 6).ipynb",
      "provenance": [],
      "authorship_tag": "ABX9TyMOFsFExJnGeqUqZ9I7DWtt",
      "include_colab_link": true
    },
    "kernelspec": {
      "name": "python3",
      "display_name": "Python 3"
    },
    "language_info": {
      "name": "python"
    }
  },
  "cells": [
    {
      "cell_type": "markdown",
      "metadata": {
        "id": "view-in-github",
        "colab_type": "text"
      },
      "source": [
        "<a href=\"https://colab.research.google.com/github/Karlitos982/GeekBrains/blob/master/%D0%9C%D0%B0%D1%82_%D1%81%D1%82%D0%B0%D1%82_(%D0%B7%D0%B0%D0%B4%D0%B0%D0%BD%D0%B8%D0%B5_6).ipynb\" target=\"_parent\"><img src=\"https://colab.research.google.com/assets/colab-badge.svg\" alt=\"Open In Colab\"/></a>"
      ]
    },
    {
      "cell_type": "code",
      "metadata": {
        "id": "pK0MXKfzZNJ7"
      },
      "source": [
        "import numpy as np"
      ],
      "execution_count": 2,
      "outputs": []
    },
    {
      "cell_type": "markdown",
      "metadata": {
        "id": "-EYq_QlOZR7Q"
      },
      "source": [
        "Задание 1. Даны значения величины заработной платы заемщиков банка (zp) и значения их поведенческого кредитного скоринга (ks):\n",
        "\n",
        "*   zp = [35, 45, 190, 200, 40, 70, 54, 150, 120, 110],\n",
        "*   ks = [401, 574, 874, 919, 459, 739, 653, 902, 746, 832].\n",
        "\n",
        "Найдите ковариацию этих двух величин с помощью элементарных действий, а затем с помощью функции cov из numpy\n",
        "Полученные значения должны быть равны.\n",
        "\n",
        "Найдите коэффициент корреляции Пирсона с помощью ковариации и среднеквадратичных отклонений двух признаков,\n",
        "а затем с использованием функций из библиотек numpy и pandas."
      ]
    },
    {
      "cell_type": "code",
      "metadata": {
        "colab": {
          "base_uri": "https://localhost:8080/"
        },
        "id": "8L-UsMc8ZhEc",
        "outputId": "138f9f3e-ba3c-48d3-8663-c4fd33dca182"
      },
      "source": [
        "zp = np.array([35, 45, 190, 200, 40, 70, 54, 150, 120, 110])\n",
        "ks =  np.array([401, 574, 874, 919, 459, 739, 653, 902, 746, 832])\n",
        "# Ищем по формуле: \n",
        "result_f = (zp * ks).mean() - zp.mean() * ks.mean()\n",
        "print(result_f)\n",
        "\n",
        "#Проверяем через NumPy:\n",
        "result_np = np.cov(zp, ks, ddof=0)[0, 1]\n",
        "print(result_np)\n",
        "\n",
        "# коэффициент корреляции\n",
        "np.corrcoef(zp, ks)[0,1]"
      ],
      "execution_count": 19,
      "outputs": [
        {
          "output_type": "stream",
          "text": [
            "9157.839999999997\n",
            "9157.84\n"
          ],
          "name": "stdout"
        },
        {
          "output_type": "execute_result",
          "data": {
            "text/plain": [
              "0.8874900920739162"
            ]
          },
          "metadata": {
            "tags": []
          },
          "execution_count": 19
        }
      ]
    },
    {
      "cell_type": "markdown",
      "metadata": {
        "id": "3bOIMtnSgNCm"
      },
      "source": [
        "Задание 2. Измерены значения IQ выборки студентов,\n",
        "обучающихся в местных технических вузах:\n",
        "131, 125, 115, 122, 131, 115, 107, 99, 125, 111.\n",
        "Известно, что в генеральной совокупности IQ распределен нормально.\n",
        "Найдите доверительный интервал для математического ожидания с надежностью 0.95."
      ]
    },
    {
      "cell_type": "code",
      "metadata": {
        "id": "KR59TC-bjB8k"
      },
      "source": [
        "def stddev(lst, mn):\n",
        "       \"\"\"calculates standard deviation\"\"\"\n",
        "       sum = 0\n",
        "       \n",
        "       for i in range(len(lst)):\n",
        "           sum += pow((lst[i]-mn),2)\n",
        "       return np.sqrt(sum/(len(lst)-1))"
      ],
      "execution_count": 24,
      "outputs": []
    },
    {
      "cell_type": "code",
      "metadata": {
        "colab": {
          "base_uri": "https://localhost:8080/"
        },
        "id": "VHmRIG4yblUD",
        "outputId": "f1ef7056-c81d-4b2f-c8f5-2818d3a10d25"
      },
      "source": [
        "data = np.array([131, 125, 115, 122, 131, 115, 107, 99, 125, 111])\n",
        "n = len(data)\n",
        "sred = np.mean(data)\n",
        "\n",
        "# использую свою функцию из предыдущего занятия\n",
        "std = stddev(data, sred)\n",
        "\n",
        "# Верх:\n",
        "Result1 = sred + (2.262 * std) / np.sqrt(n)\n",
        "\n",
        "# Низ:\n",
        "Result2 = sred - (2.262 * std) / np.sqrt(n)\n",
        "print(\"Ответы: \", Result1, Result2)"
      ],
      "execution_count": 27,
      "outputs": [
        {
          "output_type": "stream",
          "text": [
            "Ответы:  125.64339223691834 110.55660776308164\n"
          ],
          "name": "stdout"
        }
      ]
    },
    {
      "cell_type": "markdown",
      "metadata": {
        "id": "ZHOMHGaxjvw0"
      },
      "source": [
        "Задание 3. Известно, что рост футболистов в сборной распределен нормально\n",
        "с дисперсией генеральной совокупности, равной 25 кв.см. Объем выборки равен 27,\n",
        "среднее выборочное составляет 174.2. Найдите доверительный интервал для математического\n",
        "ожидания с надежностью 0.95."
      ]
    },
    {
      "cell_type": "code",
      "metadata": {
        "colab": {
          "base_uri": "https://localhost:8080/"
        },
        "id": "BHTftXoii37u",
        "outputId": "f2a3a50c-5670-49d8-c492-ff45f889f52c"
      },
      "source": [
        "std = 5\n",
        "n = 27\n",
        "sred = 174.2\n",
        "\n",
        "# Верх:\n",
        "Result1 = sred + (2.262 * std) / np.sqrt(n)\n",
        "\n",
        "# Низ:\n",
        "Result2 = sred - (2.262 * std) / np.sqrt(n)\n",
        "print(\"Ответы: \", Result1, Result2)"
      ],
      "execution_count": 28,
      "outputs": [
        {
          "output_type": "stream",
          "text": [
            "Ответы:  176.37661051484488 172.0233894851551\n"
          ],
          "name": "stdout"
        }
      ]
    }
  ]
}