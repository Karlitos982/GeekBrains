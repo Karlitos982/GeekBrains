{
  "nbformat": 4,
  "nbformat_minor": 0,
  "metadata": {
    "colab": {
      "name": "Тер.вер. (№1).ipynb",
      "provenance": [],
      "authorship_tag": "ABX9TyOgGHbSuz2BwfAByoSrWIGH",
      "include_colab_link": true
    },
    "kernelspec": {
      "name": "python3",
      "display_name": "Python 3"
    }
  },
  "cells": [
    {
      "cell_type": "markdown",
      "metadata": {
        "id": "view-in-github",
        "colab_type": "text"
      },
      "source": [
        "<a href=\"https://colab.research.google.com/github/Karlitos982/GeekBrains/blob/master/%D0%A2%D0%B5%D1%80_%D0%B2%D0%B5%D1%80_(%E2%84%961).ipynb\" target=\"_parent\"><img src=\"https://colab.research.google.com/assets/colab-badge.svg\" alt=\"Open In Colab\"/></a>"
      ]
    },
    {
      "cell_type": "markdown",
      "metadata": {
        "id": "feaTySY3Q7e5"
      },
      "source": [
        "Задача 1. Из колоды в 52 карты извлекаются случайным образом 4 карты. \r\n",
        "\r\n",
        "a) Найти вероятность того, что все карты – крести."
      ]
    },
    {
      "cell_type": "code",
      "metadata": {
        "id": "wfHGrkxoQ0A-"
      },
      "source": [
        "from math import factorial\r\n",
        "\r\n",
        "def combinations(n, k):\r\n",
        "    return int(factorial(n) / (factorial(k) * factorial(n - k)))"
      ],
      "execution_count": 7,
      "outputs": []
    },
    {
      "cell_type": "code",
      "metadata": {
        "colab": {
          "base_uri": "https://localhost:8080/"
        },
        "id": "VnyTjH-7SEq7",
        "outputId": "ea25848d-efef-471b-f7b5-067eb4b8ad1d"
      },
      "source": [
        "# всего карт (card) и вытащено карт (ins_card)\r\n",
        "card = 52\r\n",
        "ins_card = 4\r\n",
        "\r\n",
        "# количество крестей (kr) при 4 мастях и сколько нужно вытащить крестей (4):\r\n",
        "kr = card / 4\r\n",
        "kr_count = 4\r\n",
        "\r\n",
        "# ищем для крести\r\n",
        "m = combinations(kr, kr_count)\r\n",
        "print(C4_13)\r\n",
        "\r\n",
        "# поскольку все - крести, нет смысла считать для других мастей, т.к. будет 1\r\n",
        "\r\n",
        "n = combinations(52, 4)\r\n",
        "print(n)\r\n",
        "P = m/n\r\n",
        "print('Вероятность того, что все карты - крести: ' + str(P))"
      ],
      "execution_count": 40,
      "outputs": [
        {
          "output_type": "stream",
          "text": [
            "715\n",
            "270725\n",
            "Вероятность того, что все карты - крести: 0.0026410564225690276\n"
          ],
          "name": "stdout"
        }
      ]
    },
    {
      "cell_type": "markdown",
      "metadata": {
        "id": "11XMDjKCpCEE"
      },
      "source": [
        " б) Найти вероятность, что среди 4-х карт окажется хотя бы один туз."
      ]
    },
    {
      "cell_type": "code",
      "metadata": {
        "colab": {
          "base_uri": "https://localhost:8080/"
        },
        "id": "77i78xGoS1qM",
        "outputId": "ff8648a8-5032-4bbd-a12d-e239043dab5e"
      },
      "source": [
        "# напрямую не получилось, попробовал через противоположное событие\r\n",
        "# всего карт (card) и вытащено карт (ins_card)\r\n",
        "card = 52\r\n",
        "ins_card = 4\r\n",
        "tuz = 4\r\n",
        "\r\n",
        "# количество \"не тузов\"\r\n",
        "ne_tuz = card - tuz\r\n",
        "\r\n",
        "# ищем для тузов без тузов\r\n",
        "C4_48 = combinations(ne_tuz, tuz)\r\n",
        "print(C4_48)\r\n",
        "\r\n",
        "# ищем для тузов во всех картах\r\n",
        "C4_52 = combinations(card, tuz)\r\n",
        "print(C4_52)\r\n",
        "\r\n",
        "P = 1 - (C4_48 / C4_52)\r\n",
        "print('Вероятность того, что среди 4-х карт окажется хотя бы один туз: ' + str(P))"
      ],
      "execution_count": 46,
      "outputs": [
        {
          "output_type": "stream",
          "text": [
            "194580\n",
            "270725\n",
            "Вероятность того, среди 4-х карт окажется хотя бы один туз: 0.2812632745405854\n"
          ],
          "name": "stdout"
        }
      ]
    },
    {
      "cell_type": "markdown",
      "metadata": {
        "id": "BUa2iWF6uPzJ"
      },
      "source": [
        "Задача 2. На входной двери подъезда установлен кодовый замок, содержащий десять кнопок с цифрами от 0 до 9. Код содержит три цифры, которые нужно нажать одновременно. Какова вероятность того, что человек, не знающий код, откроет дверь с первой попытки?\r\n"
      ]
    },
    {
      "cell_type": "code",
      "metadata": {
        "colab": {
          "base_uri": "https://localhost:8080/"
        },
        "id": "pbFYC6Gho9rI",
        "outputId": "e588a066-919b-4a2f-dba9-b82fcf483dd3"
      },
      "source": [
        "# всего кнопок - 10 (keys), нажать нужно 3 (press_keys)\r\n",
        "press_keys = 3\r\n",
        "keys = 10\r\n",
        "c3_10 = combinations(keys, press_keys)\r\n",
        "print(c3_10)\r\n",
        "# если угадываем с 1 раза - значит m = 1\r\n",
        "P = 1/c3_10\r\n",
        "print('Вероятность того, что человек, не знающий код, откроет дверь с первой попытки: ' + str(P))"
      ],
      "execution_count": 58,
      "outputs": [
        {
          "output_type": "stream",
          "text": [
            "120\n",
            "Вероятность того, что человек, не знающий код, откроет дверь с первой попытки: 0.008333333333333333\n"
          ],
          "name": "stdout"
        }
      ]
    },
    {
      "cell_type": "markdown",
      "metadata": {
        "id": "dtY82mlZx0XL"
      },
      "source": [
        "Задача 3. В ящике имеется 15 деталей, из которых 9 окрашены. Рабочий случайным образом извлекает 3 детали. Какова вероятность того, что все извлеченные детали окрашены?"
      ]
    },
    {
      "cell_type": "code",
      "metadata": {
        "colab": {
          "base_uri": "https://localhost:8080/"
        },
        "id": "aAuPg-FZvEJ0",
        "outputId": "fbb851d9-282b-47de-ad68-90dc9d583b44"
      },
      "source": [
        "# всего деталей - 15, 9 - окрашены. Достали 3 детали\r\n",
        "\r\n",
        "c3_15 = combinations(15, 3)\r\n",
        "print(c3_15)\r\n",
        "\r\n",
        "c3_9 = combinations(9, 3)\r\n",
        "print(c3_9)\r\n",
        "\r\n",
        "P = c3_9 / c3_15\r\n",
        "print('Вероятность того, что все извлеченные детали окрашены: ' + str(P))"
      ],
      "execution_count": 68,
      "outputs": [
        {
          "output_type": "stream",
          "text": [
            "455\n",
            "84\n",
            "Вероятность того, что все извлеченные детали окрашены: 0.18461538461538463\n"
          ],
          "name": "stdout"
        }
      ]
    },
    {
      "cell_type": "markdown",
      "metadata": {
        "id": "Iinl_gCUWNop"
      },
      "source": [
        "Задача 4. В лотерее 100 билетов. Из них 2 выигрышных. Какова вероятность того, что 2 приобретенных билета окажутся выигрышными?"
      ]
    },
    {
      "cell_type": "code",
      "metadata": {
        "colab": {
          "base_uri": "https://localhost:8080/"
        },
        "id": "C4VfWM0HUp1s",
        "outputId": "73ac7d12-e702-4e0c-ddad-086cc40cb737"
      },
      "source": [
        "# всего билетов - 100, 2 - выйгрышных. Купили 2 билета\r\n",
        "\r\n",
        "c2_100 = combinations(100, 2)\r\n",
        "print(c3_15)\r\n",
        "\r\n",
        "c2_2 = combinations(2, 2)\r\n",
        "print(c2_2)\r\n",
        "\r\n",
        "P = c2_2 / c2_100\r\n",
        "print('Вероятность того, что 2 приобретенных билета окажутся выигрышными: ' + str(P))"
      ],
      "execution_count": 70,
      "outputs": [
        {
          "output_type": "stream",
          "text": [
            "4950\n",
            "1\n",
            "Вероятность того, что 2 приобретенных билета окажутся выигрышными: 0.00020202020202020202\n"
          ],
          "name": "stdout"
        }
      ]
    },
    {
      "cell_type": "code",
      "metadata": {
        "id": "nKSkS6gKWrnm"
      },
      "source": [
        ""
      ],
      "execution_count": null,
      "outputs": []
    }
  ]
}