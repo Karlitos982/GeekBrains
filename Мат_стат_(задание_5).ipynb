{
  "nbformat": 4,
  "nbformat_minor": 0,
  "metadata": {
    "colab": {
      "name": "Мат. стат (задание 5).ipynb",
      "provenance": [],
      "authorship_tag": "ABX9TyNbjHaYjdrVAqeti8DG6m2o",
      "include_colab_link": true
    },
    "kernelspec": {
      "name": "python3",
      "display_name": "Python 3"
    },
    "language_info": {
      "name": "python"
    }
  },
  "cells": [
    {
      "cell_type": "markdown",
      "metadata": {
        "id": "view-in-github",
        "colab_type": "text"
      },
      "source": [
        "<a href=\"https://colab.research.google.com/github/Karlitos982/GeekBrains/blob/master/%D0%9C%D0%B0%D1%82_%D1%81%D1%82%D0%B0%D1%82_(%D0%B7%D0%B0%D0%B4%D0%B0%D0%BD%D0%B8%D0%B5_5).ipynb\" target=\"_parent\"><img src=\"https://colab.research.google.com/assets/colab-badge.svg\" alt=\"Open In Colab\"/></a>"
      ]
    },
    {
      "cell_type": "markdown",
      "metadata": {
        "id": "wsPVc8gzKIY-"
      },
      "source": [
        "Задание 1. Известно, что генеральная совокупность распределена нормально со средним квадратическим отклонением, равным 16.\u000bНайти доверительный интервал для оценки математического ожидания с надежностью 0.95,\u000bесли выборочная средняя M = 80, а объем выборки n = 256."
      ]
    },
    {
      "cell_type": "code",
      "metadata": {
        "colab": {
          "base_uri": "https://localhost:8080/"
        },
        "id": "_riZ_JpgKQMT",
        "outputId": "d577db30-c1a8-409b-e0d6-3a937bf0c2d0"
      },
      "source": [
        "import math \n",
        "\"\"\"\n",
        "Воспользуемся формулой, получим:\n",
        "\"\"\"\n",
        "# Ответ 1:\n",
        "Result1 = 80 - ((1.96 * 16) / math.sqrt(256))\n",
        "# Ответ 2:\n",
        "Result2 = 80 + ((1.96 * 16) / math.sqrt(256))\n",
        "print(Result1, Result2)"
      ],
      "execution_count": 7,
      "outputs": [
        {
          "output_type": "stream",
          "text": [
            "78.04 81.96\n"
          ],
          "name": "stdout"
        }
      ]
    },
    {
      "cell_type": "markdown",
      "metadata": {
        "id": "FC-oMMMXOidm"
      },
      "source": [
        "Задание 2. В результате 10 независимых измерений некоторой величины X, выполненных с одинаковой точностью,\u000bполучены опытные данные:\u000b6.9, 6.1, 6.2, 6.8, 7.5, 6.3, 6.4, 6.9, 6.7, 6.1\u000bПредполагая, что результаты измерений подчинены нормальному закону распределения вероятностей,\u000bоценить истинное значение величины X при помощи доверительного интервала, покрывающего это\u000bзначение с доверительной вероятностью 0,95."
      ]
    },
    {
      "cell_type": "code",
      "metadata": {
        "id": "T6e5kgZzUNys"
      },
      "source": [
        "def stddev(lst, mn):\n",
        "       \"\"\"calculates standard deviation\"\"\"\n",
        "       sum = 0\n",
        "       \n",
        "       for i in range(len(lst)):\n",
        "           sum += pow((lst[i]-mn),2)\n",
        "       return math.sqrt(sum/(len(lst)-1))"
      ],
      "execution_count": 21,
      "outputs": []
    },
    {
      "cell_type": "code",
      "metadata": {
        "colab": {
          "base_uri": "https://localhost:8080/"
        },
        "id": "X62QuLdMN6TG",
        "outputId": "b16345a6-e5f9-4242-8abc-2b013c8400c0"
      },
      "source": [
        "import numpy as np\n",
        "data = np.array([6.9, 6.1, 6.2, 6.8, 7.5, 6.3, 6.4, 6.9, 6.7, 6.1])\n",
        "n = len(data)\n",
        "sred = np.mean(data)\n",
        "std = stddev(data, sred)\n",
        "# Верх:\n",
        "Result1 = sred + (2.262 * std) / math.sqrt(n)\n",
        "# Низ:\n",
        "Result2 = sred - (2.262 * std) / math.sqrt(n)\n",
        "print(Result1, Result2)"
      ],
      "execution_count": 25,
      "outputs": [
        {
          "output_type": "stream",
          "text": [
            "6.912461744087575 6.267538255912426\n"
          ],
          "name": "stdout"
        }
      ]
    },
    {
      "cell_type": "code",
      "metadata": {
        "id": "OWZpTBbAPtX0"
      },
      "source": [
        ""
      ],
      "execution_count": null,
      "outputs": []
    }
  ]
}